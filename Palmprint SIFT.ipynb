{
 "cells": [
  {
   "cell_type": "code",
   "execution_count": 23,
   "id": "26c9eb51",
   "metadata": {},
   "outputs": [],
   "source": [
    "import cv2\n",
    "import numpy as np\n",
    "import os\n",
    "import matplotlib.pyplot as plt"
   ]
  },
  {
   "cell_type": "code",
   "execution_count": 2,
   "id": "1758cc25",
   "metadata": {},
   "outputs": [
    {
     "name": "stdout",
     "output_type": "stream",
     "text": [
      "Retrieving notices: ...working... done\n",
      "Collecting package metadata (current_repodata.json): done\n",
      "Solving environment: - \n",
      "The environment is inconsistent, please check the package plan carefully\n",
      "The following packages are causing the inconsistency:\n",
      "\n",
      "  - defaults/osx-64::anaconda==2022.05=py39_0\n",
      "failed with initial frozen solve. Retrying with flexible solve.\n",
      "Solving environment: failed with repodata from current_repodata.json, will retry with next repodata source.\n",
      "Collecting package metadata (repodata.json): done\n",
      "Solving environment: | \n",
      "The environment is inconsistent, please check the package plan carefully\n",
      "The following packages are causing the inconsistency:\n",
      "\n",
      "  - defaults/osx-64::anaconda==2022.05=py39_0\n",
      "  - defaults/osx-64::conda-build==3.21.8=py39hecd8cb5_2\n",
      "  - defaults/osx-64::anaconda-navigator==2.3.2=py39hecd8cb5_0\n",
      "failed with initial frozen solve. Retrying with flexible solve.\n",
      "Solving environment: / \n",
      "Found conflicts! Looking for incompatible packages.\n",
      "This can take several minutes.  Press CTRL-C to abort.\n",
      "Examining conflict for mpmath sortedcollections tenacity python-snappy prompt-\\ ^C\n",
      "                                                                               failed\n",
      "\n",
      "CondaError: KeyboardInterrupt\n",
      "\n",
      "\n",
      "Note: you may need to restart the kernel to use updated packages.\n"
     ]
    }
   ],
   "source": [
    "conda install -c menpo opencv"
   ]
  },
  {
   "cell_type": "code",
   "execution_count": 6,
   "id": "ec34af0d",
   "metadata": {},
   "outputs": [
    {
     "ename": "ModuleNotFoundError",
     "evalue": "No module named 'opencv'",
     "output_type": "error",
     "traceback": [
      "\u001b[0;31m---------------------------------------------------------------------------\u001b[0m",
      "\u001b[0;31mModuleNotFoundError\u001b[0m                       Traceback (most recent call last)",
      "Input \u001b[0;32mIn [6]\u001b[0m, in \u001b[0;36m<cell line: 1>\u001b[0;34m()\u001b[0m\n\u001b[0;32m----> 1\u001b[0m \u001b[38;5;28;01mimport\u001b[39;00m \u001b[38;5;21;01mopencv\u001b[39;00m\n",
      "\u001b[0;31mModuleNotFoundError\u001b[0m: No module named 'opencv'"
     ]
    }
   ],
   "source": []
  },
  {
   "cell_type": "code",
   "execution_count": 24,
   "id": "08ce74c8",
   "metadata": {},
   "outputs": [],
   "source": [
    "def get_train_and_test_img_features():\n",
    "    train_path = \"/Users/apple/Desktop/Palm Print Database/Palmprint/training\"\n",
    "    test_path = \"/Users/apple/Desktop/Palm Print Database/Palmprint/testing\"\n",
    "    train_dataset = []\n",
    "    test_dataset = []\n",
    "    \n",
    "    train_img_list = os.listdir(train_path)\n",
    "    test_img_list = os.listdir(test_path)\n",
    "    \n",
    "    for train_img in train_img_list:\n",
    "        img = cv2.imread(train_path + train_img)\n",
    "        gray = cv2.cvtColor(img, cv2.COLOR_BGR2GRAY)\n",
    "        equalize = cv2.equalizeHist(gray)\n",
    "        kp_query, de_query = get_sift_features(equalize)\n",
    "        train_dataset.append(des_query)\n",
    "    for test_img in test_img_list:\n",
    "        img = cv2.imread(test_path + test_img)\n",
    "        gray = cv2.cvtColor(img, cv2.COLOR_BGR2GRAY)\n",
    "        equalize = cv2.equalizeHist(gray)\n",
    "        kp_query, de_query = get_sift_features(equalize)\n",
    "        test_dataset.append(des_query)\n",
    "    return train_dataset, test_dataset"
   ]
  },
  {
   "cell_type": "code",
   "execution_count": 25,
   "id": "d05ec594",
   "metadata": {},
   "outputs": [],
   "source": [
    "def get_sift_features(img, dect_type = \"sift\"):\n",
    "    if dect_type == 'sift':\n",
    "        sift = cv2.xfeatures2d.SIFT_create()\n",
    "    elif dect_type == 'surf':\n",
    "        sift == cv2.xfeatures2d.SURF_create()\n",
    "    kp, des = sift.detectAndCompute(img, None)\n",
    "    return kp, des"
   ]
  },
  {
   "cell_type": "code",
   "execution_count": 26,
   "id": "6cb27bde",
   "metadata": {},
   "outputs": [],
   "source": [
    "def sift_detect_match_num(des_query, des_train, ratio = 0.70):\n",
    "    bf = cv2.BFMatcher()\n",
    "    matches = bf.knnMatch(des_query, des_train, k = 2)\n",
    "    match_num = 0\n",
    "    for first, second in matches:\n",
    "        if first.distance < ratio * second.distance:\n",
    "            match_num = match_num + 1\n",
    "        return match_num"
   ]
  },
  {
   "cell_type": "code",
   "execution_count": 27,
   "id": "1a4e8a6c",
   "metadata": {},
   "outputs": [],
   "source": [
    "def get_one_palm_match_num(des_query, index, train_dataset, ratio = 0.70):\n",
    "    match_num_sum = 0\n",
    "    for i in range(index, index + 3):\n",
    "        match_num_sum += sift_detect_match_num(des_query, train_dataset[i], ratio = ratio)\n",
    "    return match_num_sum"
   ]
  },
  {
   "cell_type": "code",
   "execution_count": 28,
   "id": "88811223",
   "metadata": {},
   "outputs": [],
   "source": [
    "def get_match_result(des_query, train_dataset, ratio = 0.70):\n",
    "    index = 0\n",
    "    train_length = len(train_dataset)\n",
    "    result = np.zeros(train_length // 3, dtype = np.int32)\n",
    "    while index < train_length:\n",
    "        result[index // 3] = get_one_palm_match_num(des_query, index, train_dataset, ratio = ratio)\n",
    "        index += 3\n",
    "    return result.argmax()"
   ]
  },
  {
   "cell_type": "code",
   "execution_count": 29,
   "id": "1b06e827",
   "metadata": {},
   "outputs": [],
   "source": [
    "def predict(train_features, test_features, ratio = 0.70):\n",
    "    predict_true = 0\n",
    "    for i, features in enumerate(test_features):\n",
    "        print('Processing image', i+1, '...')\n",
    "        category = get_match_result(feature, train_features, ratio = ratio)\n",
    "        if category == i // 3:\n",
    "            predict_true += 1\n",
    "        print('Predict result:', category + 1, 'Ground truth:', i//3+1)\n",
    "    print('Predict the correct number of pictures:', predict_true, \"Accuracy:\", predict_true / len(test_features), 'ratio:', ratio)\n",
    "    return predict_true / len(test_features)"
   ]
  },
  {
   "cell_type": "code",
   "execution_count": 30,
   "id": "47e7b7f4",
   "metadata": {},
   "outputs": [],
   "source": [
    "def show_plot(ratio, acc, name, title):\n",
    "    plt.plot(ratio, acc)\n",
    "    plt.title(title)\n",
    "    if not os.path.exists('Image_result'):\n",
    "        os.makedir('Image_result')\n",
    "    plt.savefig(os.path.join('Image_result', name))"
   ]
  },
  {
   "cell_type": "code",
   "execution_count": 31,
   "id": "008cdb78",
   "metadata": {},
   "outputs": [],
   "source": [
    "def main():\n",
    "    train_sift_features, test_sift_features = get_train_and_test_img_features()\n",
    "    ratio = 0.65\n",
    "    best_acc = 0\n",
    "    best_ratio = 0\n",
    "    ratio_list = []\n",
    "    acc_list = []\n",
    "    max_ratio = 0.85\n",
    "    while ratio <= max_ratio:\n",
    "        acc = predict(train_sift_features, test_sift_features, ratio)\n",
    "        acc_list.append(acc)\n",
    "        ratio_list.append(ratio)\n",
    "        if acc > best_acc:\n",
    "            best_acc = acc\n",
    "            best_ratio = ratio\n",
    "        ratio += 0.01\n",
    "    title = \"best ratio:\" + str(best_ratio) + \" best acc:{:.4f}\".format(best_acc)\n",
    "    plt_name = \"SIFT_\" + str(mac_ratio).split('.')[-1]\n",
    "    show_plot(ratio_list, acc_list, plt_name, title)\n",
    "    print(title)"
   ]
  },
  {
   "cell_type": "code",
   "execution_count": 32,
   "id": "e5917d35",
   "metadata": {
    "scrolled": false
   },
   "outputs": [
    {
     "name": "stderr",
     "output_type": "stream",
     "text": [
      "[ WARN:0@74342.599] global /Users/runner/work/opencv-python/opencv-python/opencv/modules/imgcodecs/src/loadsave.cpp (239) findDecoder imread_('/Users/apple/Desktop/Palm Print Database/Palmprint/training068-1.bmp'): can't open/read file: check file path/integrity\n"
     ]
    },
    {
     "ename": "error",
     "evalue": "OpenCV(4.6.0) /Users/runner/work/opencv-python/opencv-python/opencv/modules/imgproc/src/color.cpp:182: error: (-215:Assertion failed) !_src.empty() in function 'cvtColor'\n",
     "output_type": "error",
     "traceback": [
      "\u001b[0;31m---------------------------------------------------------------------------\u001b[0m",
      "\u001b[0;31merror\u001b[0m                                     Traceback (most recent call last)",
      "Input \u001b[0;32mIn [32]\u001b[0m, in \u001b[0;36m<cell line: 1>\u001b[0;34m()\u001b[0m\n\u001b[1;32m      1\u001b[0m \u001b[38;5;28;01mif\u001b[39;00m \u001b[38;5;18m__name__\u001b[39m \u001b[38;5;241m==\u001b[39m \u001b[38;5;124m\"\u001b[39m\u001b[38;5;124m__main__\u001b[39m\u001b[38;5;124m\"\u001b[39m:\n\u001b[0;32m----> 2\u001b[0m     \u001b[43mmain\u001b[49m\u001b[43m(\u001b[49m\u001b[43m)\u001b[49m\n",
      "Input \u001b[0;32mIn [31]\u001b[0m, in \u001b[0;36mmain\u001b[0;34m()\u001b[0m\n\u001b[1;32m      1\u001b[0m \u001b[38;5;28;01mdef\u001b[39;00m \u001b[38;5;21mmain\u001b[39m():\n\u001b[0;32m----> 2\u001b[0m     train_sift_features, test_sift_features \u001b[38;5;241m=\u001b[39m \u001b[43mget_train_and_test_img_features\u001b[49m\u001b[43m(\u001b[49m\u001b[43m)\u001b[49m\n\u001b[1;32m      3\u001b[0m     ratio \u001b[38;5;241m=\u001b[39m \u001b[38;5;241m0.65\u001b[39m\n\u001b[1;32m      4\u001b[0m     best_acc \u001b[38;5;241m=\u001b[39m \u001b[38;5;241m0\u001b[39m\n",
      "Input \u001b[0;32mIn [24]\u001b[0m, in \u001b[0;36mget_train_and_test_img_features\u001b[0;34m()\u001b[0m\n\u001b[1;32m     10\u001b[0m \u001b[38;5;28;01mfor\u001b[39;00m train_img \u001b[38;5;129;01min\u001b[39;00m train_img_list:\n\u001b[1;32m     11\u001b[0m     img \u001b[38;5;241m=\u001b[39m cv2\u001b[38;5;241m.\u001b[39mimread(train_path \u001b[38;5;241m+\u001b[39m train_img)\n\u001b[0;32m---> 12\u001b[0m     gray \u001b[38;5;241m=\u001b[39m \u001b[43mcv2\u001b[49m\u001b[38;5;241;43m.\u001b[39;49m\u001b[43mcvtColor\u001b[49m\u001b[43m(\u001b[49m\u001b[43mimg\u001b[49m\u001b[43m,\u001b[49m\u001b[43m \u001b[49m\u001b[43mcv2\u001b[49m\u001b[38;5;241;43m.\u001b[39;49m\u001b[43mCOLOR_BGR2GRAY\u001b[49m\u001b[43m)\u001b[49m\n\u001b[1;32m     13\u001b[0m     equalize \u001b[38;5;241m=\u001b[39m cv2\u001b[38;5;241m.\u001b[39mequalizeHist(gray)\n\u001b[1;32m     14\u001b[0m     kp_query, de_query \u001b[38;5;241m=\u001b[39m get_sift_features(equalize)\n",
      "\u001b[0;31merror\u001b[0m: OpenCV(4.6.0) /Users/runner/work/opencv-python/opencv-python/opencv/modules/imgproc/src/color.cpp:182: error: (-215:Assertion failed) !_src.empty() in function 'cvtColor'\n"
     ]
    }
   ],
   "source": [
    "if __name__ == \"__main__\":\n",
    "    main()"
   ]
  },
  {
   "cell_type": "code",
   "execution_count": 33,
   "id": "f382505a",
   "metadata": {},
   "outputs": [
    {
     "name": "stdout",
     "output_type": "stream",
     "text": [
      "Note: you may need to restart the kernel to use updated packages.\n"
     ]
    }
   ],
   "source": [
    "pip install opencv-python==4.5.3.56"
   ]
  },
  {
   "cell_type": "code",
   "execution_count": null,
   "id": "dffe5b55",
   "metadata": {},
   "outputs": [],
   "source": []
  },
  {
   "cell_type": "code",
   "execution_count": null,
   "id": "57359beb",
   "metadata": {},
   "outputs": [],
   "source": []
  }
 ],
 "metadata": {
  "kernelspec": {
   "display_name": "Python 3 (ipykernel)",
   "language": "python",
   "name": "python3"
  },
  "language_info": {
   "codemirror_mode": {
    "name": "ipython",
    "version": 3
   },
   "file_extension": ".py",
   "mimetype": "text/x-python",
   "name": "python",
   "nbconvert_exporter": "python",
   "pygments_lexer": "ipython3",
   "version": "3.9.17"
  }
 },
 "nbformat": 4,
 "nbformat_minor": 5
}
